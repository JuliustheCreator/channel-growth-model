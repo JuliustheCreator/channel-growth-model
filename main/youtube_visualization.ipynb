{
  "nbformat": 4,
  "nbformat_minor": 0,
  "metadata": {
    "colab": {
      "provenance": [],
      "include_colab_link": true
    },
    "kernelspec": {
      "name": "python3",
      "display_name": "Python 3"
    },
    "language_info": {
      "name": "python"
    }
  },
  "cells": [
    {
      "cell_type": "markdown",
      "metadata": {
        "id": "view-in-github",
        "colab_type": "text"
      },
      "source": [
        "<a href=\"https://colab.research.google.com/github/JuliustheCreator/youtube-visualization/blob/main/main/youtube_visualization.ipynb\" target=\"_parent\"><img src=\"https://colab.research.google.com/assets/colab-badge.svg\" alt=\"Open In Colab\"/></a>"
      ]
    },
    {
      "cell_type": "code",
      "execution_count": null,
      "metadata": {
        "id": "0zMPNFjCB-F8"
      },
      "outputs": [],
      "source": [
        "import pandas as pd\n",
        "import numpy as np\n",
        "import matplotlib.pyplot as plt"
      ]
    },
    {
      "cell_type": "code",
      "source": [
        "#Reading in Data\n",
        "url = 'https://raw.githubusercontent.com/JuliustheCreator/youtube-visualization/main/topSubscribed.csv'\n",
        "df = pd.read_csv(url)\n",
        "\n",
        "#Cleaning Data\n",
        "data = df.dropna()\n",
        "\n",
        "for col in [\"Subscribers\", \"Video Views\", \"Video Count\"]: #Removing the commas in each str\n",
        "  df[col] = df[col].str.replace(\",\", \"\")\n",
        "\n",
        "for col in [\"Video Count\"]: #Casting video count to int and dividing by 1000\n",
        "  df[col] = df[col].astype(int)\n",
        "  df[col] = df[col] / 1000\n",
        "\n",
        "for col in [\"Subscribers\", \"Video Views\"]: #Casting each element to integer then dividing by a million when needed\n",
        "  df[col] = df[col].astype(int)\n",
        "  df[col] = df[col] / 1000000\n",
        "df.head(10)\n",
        "\n"
      ],
      "metadata": {
        "id": "feIY3lBvENKQ",
        "colab": {
          "base_uri": "https://localhost:8080/",
          "height": 363
        },
        "outputId": "da0bf70b-b27f-4852-e5ec-96d5c1516419"
      },
      "execution_count": null,
      "outputs": [
        {
          "output_type": "execute_result",
          "data": {
            "text/plain": [
              "   Rank             Youtube Channel  Subscribers    Video Views  Video Count  \\\n",
              "0     1                    T-Series        234.0  212900.271553       18.515   \n",
              "1     2              YouTube Movies        161.0       0.000000        0.000   \n",
              "2     3  Cocomelon - Nursery Rhymes        152.0  149084.178448        0.846   \n",
              "3     4                   SET India        150.0  137828.094104      103.200   \n",
              "4     5                     MrBeast        128.0   21549.128785        0.733   \n",
              "5     6                       Music        118.0       0.000000        0.000   \n",
              "6     7                   PewDiePie        111.0   28851.883250        4.694   \n",
              "7     8           ✿ Kids Diana Show        106.0   86638.570921        1.056   \n",
              "8     9                 Like Nastya        104.0   87202.935675        0.754   \n",
              "9    10                      Gaming         93.3       0.000000        0.000   \n",
              "\n",
              "                                            Category  Started  \n",
              "0                                              Music     2006  \n",
              "1                                   Film & Animation     2015  \n",
              "2                                          Education     2006  \n",
              "3                                              Shows     2006  \n",
              "4                                      Entertainment     2012  \n",
              "5  https://us.youtubers.me/global/all/top-1000-mo...     2013  \n",
              "6                                             Gaming     2010  \n",
              "7                                     People & Blogs     2015  \n",
              "8                                     People & Blogs     2016  \n",
              "9  https://us.youtubers.me/global/all/top-1000-mo...     2013  "
            ],
            "text/html": [
              "\n",
              "  <div id=\"df-12578ba3-6fbd-4c51-9502-097183997a4b\">\n",
              "    <div class=\"colab-df-container\">\n",
              "      <div>\n",
              "<style scoped>\n",
              "    .dataframe tbody tr th:only-of-type {\n",
              "        vertical-align: middle;\n",
              "    }\n",
              "\n",
              "    .dataframe tbody tr th {\n",
              "        vertical-align: top;\n",
              "    }\n",
              "\n",
              "    .dataframe thead th {\n",
              "        text-align: right;\n",
              "    }\n",
              "</style>\n",
              "<table border=\"1\" class=\"dataframe\">\n",
              "  <thead>\n",
              "    <tr style=\"text-align: right;\">\n",
              "      <th></th>\n",
              "      <th>Rank</th>\n",
              "      <th>Youtube Channel</th>\n",
              "      <th>Subscribers</th>\n",
              "      <th>Video Views</th>\n",
              "      <th>Video Count</th>\n",
              "      <th>Category</th>\n",
              "      <th>Started</th>\n",
              "    </tr>\n",
              "  </thead>\n",
              "  <tbody>\n",
              "    <tr>\n",
              "      <th>0</th>\n",
              "      <td>1</td>\n",
              "      <td>T-Series</td>\n",
              "      <td>234.0</td>\n",
              "      <td>212900.271553</td>\n",
              "      <td>18.515</td>\n",
              "      <td>Music</td>\n",
              "      <td>2006</td>\n",
              "    </tr>\n",
              "    <tr>\n",
              "      <th>1</th>\n",
              "      <td>2</td>\n",
              "      <td>YouTube Movies</td>\n",
              "      <td>161.0</td>\n",
              "      <td>0.000000</td>\n",
              "      <td>0.000</td>\n",
              "      <td>Film &amp; Animation</td>\n",
              "      <td>2015</td>\n",
              "    </tr>\n",
              "    <tr>\n",
              "      <th>2</th>\n",
              "      <td>3</td>\n",
              "      <td>Cocomelon - Nursery Rhymes</td>\n",
              "      <td>152.0</td>\n",
              "      <td>149084.178448</td>\n",
              "      <td>0.846</td>\n",
              "      <td>Education</td>\n",
              "      <td>2006</td>\n",
              "    </tr>\n",
              "    <tr>\n",
              "      <th>3</th>\n",
              "      <td>4</td>\n",
              "      <td>SET India</td>\n",
              "      <td>150.0</td>\n",
              "      <td>137828.094104</td>\n",
              "      <td>103.200</td>\n",
              "      <td>Shows</td>\n",
              "      <td>2006</td>\n",
              "    </tr>\n",
              "    <tr>\n",
              "      <th>4</th>\n",
              "      <td>5</td>\n",
              "      <td>MrBeast</td>\n",
              "      <td>128.0</td>\n",
              "      <td>21549.128785</td>\n",
              "      <td>0.733</td>\n",
              "      <td>Entertainment</td>\n",
              "      <td>2012</td>\n",
              "    </tr>\n",
              "    <tr>\n",
              "      <th>5</th>\n",
              "      <td>6</td>\n",
              "      <td>Music</td>\n",
              "      <td>118.0</td>\n",
              "      <td>0.000000</td>\n",
              "      <td>0.000</td>\n",
              "      <td>https://us.youtubers.me/global/all/top-1000-mo...</td>\n",
              "      <td>2013</td>\n",
              "    </tr>\n",
              "    <tr>\n",
              "      <th>6</th>\n",
              "      <td>7</td>\n",
              "      <td>PewDiePie</td>\n",
              "      <td>111.0</td>\n",
              "      <td>28851.883250</td>\n",
              "      <td>4.694</td>\n",
              "      <td>Gaming</td>\n",
              "      <td>2010</td>\n",
              "    </tr>\n",
              "    <tr>\n",
              "      <th>7</th>\n",
              "      <td>8</td>\n",
              "      <td>✿ Kids Diana Show</td>\n",
              "      <td>106.0</td>\n",
              "      <td>86638.570921</td>\n",
              "      <td>1.056</td>\n",
              "      <td>People &amp; Blogs</td>\n",
              "      <td>2015</td>\n",
              "    </tr>\n",
              "    <tr>\n",
              "      <th>8</th>\n",
              "      <td>9</td>\n",
              "      <td>Like Nastya</td>\n",
              "      <td>104.0</td>\n",
              "      <td>87202.935675</td>\n",
              "      <td>0.754</td>\n",
              "      <td>People &amp; Blogs</td>\n",
              "      <td>2016</td>\n",
              "    </tr>\n",
              "    <tr>\n",
              "      <th>9</th>\n",
              "      <td>10</td>\n",
              "      <td>Gaming</td>\n",
              "      <td>93.3</td>\n",
              "      <td>0.000000</td>\n",
              "      <td>0.000</td>\n",
              "      <td>https://us.youtubers.me/global/all/top-1000-mo...</td>\n",
              "      <td>2013</td>\n",
              "    </tr>\n",
              "  </tbody>\n",
              "</table>\n",
              "</div>\n",
              "      <button class=\"colab-df-convert\" onclick=\"convertToInteractive('df-12578ba3-6fbd-4c51-9502-097183997a4b')\"\n",
              "              title=\"Convert this dataframe to an interactive table.\"\n",
              "              style=\"display:none;\">\n",
              "        \n",
              "  <svg xmlns=\"http://www.w3.org/2000/svg\" height=\"24px\"viewBox=\"0 0 24 24\"\n",
              "       width=\"24px\">\n",
              "    <path d=\"M0 0h24v24H0V0z\" fill=\"none\"/>\n",
              "    <path d=\"M18.56 5.44l.94 2.06.94-2.06 2.06-.94-2.06-.94-.94-2.06-.94 2.06-2.06.94zm-11 1L8.5 8.5l.94-2.06 2.06-.94-2.06-.94L8.5 2.5l-.94 2.06-2.06.94zm10 10l.94 2.06.94-2.06 2.06-.94-2.06-.94-.94-2.06-.94 2.06-2.06.94z\"/><path d=\"M17.41 7.96l-1.37-1.37c-.4-.4-.92-.59-1.43-.59-.52 0-1.04.2-1.43.59L10.3 9.45l-7.72 7.72c-.78.78-.78 2.05 0 2.83L4 21.41c.39.39.9.59 1.41.59.51 0 1.02-.2 1.41-.59l7.78-7.78 2.81-2.81c.8-.78.8-2.07 0-2.86zM5.41 20L4 18.59l7.72-7.72 1.47 1.35L5.41 20z\"/>\n",
              "  </svg>\n",
              "      </button>\n",
              "      \n",
              "  <style>\n",
              "    .colab-df-container {\n",
              "      display:flex;\n",
              "      flex-wrap:wrap;\n",
              "      gap: 12px;\n",
              "    }\n",
              "\n",
              "    .colab-df-convert {\n",
              "      background-color: #E8F0FE;\n",
              "      border: none;\n",
              "      border-radius: 50%;\n",
              "      cursor: pointer;\n",
              "      display: none;\n",
              "      fill: #1967D2;\n",
              "      height: 32px;\n",
              "      padding: 0 0 0 0;\n",
              "      width: 32px;\n",
              "    }\n",
              "\n",
              "    .colab-df-convert:hover {\n",
              "      background-color: #E2EBFA;\n",
              "      box-shadow: 0px 1px 2px rgba(60, 64, 67, 0.3), 0px 1px 3px 1px rgba(60, 64, 67, 0.15);\n",
              "      fill: #174EA6;\n",
              "    }\n",
              "\n",
              "    [theme=dark] .colab-df-convert {\n",
              "      background-color: #3B4455;\n",
              "      fill: #D2E3FC;\n",
              "    }\n",
              "\n",
              "    [theme=dark] .colab-df-convert:hover {\n",
              "      background-color: #434B5C;\n",
              "      box-shadow: 0px 1px 3px 1px rgba(0, 0, 0, 0.15);\n",
              "      filter: drop-shadow(0px 1px 2px rgba(0, 0, 0, 0.3));\n",
              "      fill: #FFFFFF;\n",
              "    }\n",
              "  </style>\n",
              "\n",
              "      <script>\n",
              "        const buttonEl =\n",
              "          document.querySelector('#df-12578ba3-6fbd-4c51-9502-097183997a4b button.colab-df-convert');\n",
              "        buttonEl.style.display =\n",
              "          google.colab.kernel.accessAllowed ? 'block' : 'none';\n",
              "\n",
              "        async function convertToInteractive(key) {\n",
              "          const element = document.querySelector('#df-12578ba3-6fbd-4c51-9502-097183997a4b');\n",
              "          const dataTable =\n",
              "            await google.colab.kernel.invokeFunction('convertToInteractive',\n",
              "                                                     [key], {});\n",
              "          if (!dataTable) return;\n",
              "\n",
              "          const docLinkHtml = 'Like what you see? Visit the ' +\n",
              "            '<a target=\"_blank\" href=https://colab.research.google.com/notebooks/data_table.ipynb>data table notebook</a>'\n",
              "            + ' to learn more about interactive tables.';\n",
              "          element.innerHTML = '';\n",
              "          dataTable['output_type'] = 'display_data';\n",
              "          await google.colab.output.renderOutput(dataTable, element);\n",
              "          const docLink = document.createElement('div');\n",
              "          docLink.innerHTML = docLinkHtml;\n",
              "          element.appendChild(docLink);\n",
              "        }\n",
              "      </script>\n",
              "    </div>\n",
              "  </div>\n",
              "  "
            ]
          },
          "metadata": {},
          "execution_count": 39
        }
      ]
    },
    {
      "cell_type": "markdown",
      "source": [
        "Statistics:"
      ],
      "metadata": {
        "id": "GWuKXsTkVeED"
      }
    },
    {
      "cell_type": "code",
      "source": [
        "#Number of Subscribers\n",
        "meanSubs = df[\"Subscribers\"].mean()\n",
        "medianSubs = df[\"Subscribers\"].median()\n",
        "varianceSubs = df[\"Subscribers\"].var()\n",
        "stdSubs = df[\"Subscribers\"].std()\n",
        "print(\"The average amount of subscribers (in millions) is: \", meanSubs)\n",
        "print(\"The median amount of subscribers (in millions) is: \", medianSubs)\n",
        "print(\"The variance of subscribers (in millions) is: \", varianceSubs)\n",
        "print(\"The standard deviation of subscribers (in millions) is: \", stdSubs, \"\\n\")\n",
        "\n",
        "#Video Views\n",
        "meanViews = df[\"Video Views\"].mean()\n",
        "medianViews = df[\"Video Views\"].median()\n",
        "varianceViews = df[\"Video Views\"].var()\n",
        "stdViews = df[\"Video Views\"].std()\n",
        "print(\"The average amount of video views (in millions) is: \", meanViews)\n",
        "print(\"The median amount of video views (in millions) is: \", medianViews)\n",
        "print(\"The variance of video views (in millions) is: \", varianceViews)\n",
        "print(\"The standard deviation of video views (in millions) is: \", stdViews, \"\\n\")\n",
        "\n",
        "#Video Count\n",
        "meanVidCount = df[\"Video Count\"].mean()\n",
        "medianVidCount = df[\"Video Count\"].median()\n",
        "varianceVidCount = df[\"Video Count\"].var()\n",
        "stdVidCount = df[\"Video Count\"].std()\n",
        "print(\"The average amount of video count (in thousands) is: \", meanVidCount)\n",
        "print(\"The median amount of video count (in thousands) is: \", medianVidCount)\n",
        "print(\"The variance of video count (in thousands) is: \", varianceVidCount)\n",
        "print(\"The standard deviation of video count (in thousands) is: \", stdVidCount, \"\\n\")"
      ],
      "metadata": {
        "id": "6D9h__W7Vfeq",
        "colab": {
          "base_uri": "https://localhost:8080/"
        },
        "outputId": "a2f1d284-ef61-49c5-f4fe-c0902f9474cd"
      },
      "execution_count": null,
      "outputs": [
        {
          "output_type": "stream",
          "name": "stdout",
          "text": [
            "The average amount of subscribers (in millions) is:  21.581400000000002\n",
            "The median amount of subscribers (in millions) is:  16.6\n",
            "The variance of subscribers (in millions) is:  276.4093634034034\n",
            "The standard deviation of subscribers (in millions) is:  16.625563551453027 \n",
            "\n",
            "The average amount of video views (in millions) is:  9994.912409733999\n",
            "The median amount of video views (in millions) is:  6723.360159\n",
            "The variance of video views (in millions) is:  169141923.65293387\n",
            "The standard deviation of video views (in millions) is:  13005.457456503937 \n",
            "\n",
            "The average amount of video count (in thousands) is:  9.416228\n",
            "The median amount of video count (in thousands) is:  0.896\n",
            "The variance of video count (in thousands) is:  1036.2546295856018\n",
            "The standard deviation of video count (in thousands) is:  32.190909113996796 \n",
            "\n"
          ]
        }
      ]
    },
    {
      "cell_type": "markdown",
      "source": [
        "This is a bar chart of the views for each genre:"
      ],
      "metadata": {
        "id": "73HGK49ZUNCm"
      }
    },
    {
      "cell_type": "code",
      "source": [],
      "metadata": {
        "id": "4tNpb2J7UAMh",
        "colab": {
          "base_uri": "https://localhost:8080/",
          "height": 130
        },
        "outputId": "15adf94d-163c-4ff6-fe72-3a5efeb85d1d"
      },
      "execution_count": null,
      "outputs": [
        {
          "output_type": "error",
          "ename": "SyntaxError",
          "evalue": "ignored",
          "traceback": [
            "\u001b[0;36m  File \u001b[0;32m\"<ipython-input-52-126cff3c48d4>\"\u001b[0;36m, line \u001b[0;32m1\u001b[0m\n\u001b[0;31m    for [\"Category\"], group in grouped_df:\u001b[0m\n\u001b[0m         ^\u001b[0m\n\u001b[0;31mSyntaxError\u001b[0m\u001b[0;31m:\u001b[0m cannot assign to literal\n"
          ]
        }
      ]
    },
    {
      "cell_type": "markdown",
      "source": [
        "This is a scatterplot of the views (y) plotted against the age (x):"
      ],
      "metadata": {
        "id": "gDuUIlhnUedf"
      }
    },
    {
      "cell_type": "code",
      "source": [],
      "metadata": {
        "id": "VLtMYGImUnGl"
      },
      "execution_count": null,
      "outputs": []
    },
    {
      "cell_type": "markdown",
      "source": [
        "This is a line graph of the rank (y) plotted against views (x):"
      ],
      "metadata": {
        "id": "XM-Y_2vmUqdM"
      }
    },
    {
      "cell_type": "code",
      "source": [],
      "metadata": {
        "id": "AcIbvEzoU1KW"
      },
      "execution_count": null,
      "outputs": []
    },
    {
      "cell_type": "markdown",
      "source": [
        "This is a pie graph of the views for each category against total views on the site:"
      ],
      "metadata": {
        "id": "mpl6PsgYU3DK"
      }
    },
    {
      "cell_type": "code",
      "source": [],
      "metadata": {
        "id": "Z2_fjPJnVChS"
      },
      "execution_count": null,
      "outputs": []
    },
    {
      "cell_type": "markdown",
      "source": [
        "Regression Model:"
      ],
      "metadata": {
        "id": "mESlevimVEYi"
      }
    },
    {
      "cell_type": "code",
      "source": [],
      "metadata": {
        "id": "dvEVAEIGVGAO"
      },
      "execution_count": null,
      "outputs": []
    }
  ]
}