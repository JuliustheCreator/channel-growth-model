{
  "cells": [
    {
      "cell_type": "markdown",
      "metadata": {
        "id": "view-in-github",
        "colab_type": "text"
      },
      "source": [
        "<a href=\"https://colab.research.google.com/github/JuliustheCreator/channel-growth-model/blob/main/analysis/youtube_visualization.ipynb\" target=\"_parent\"><img src=\"https://colab.research.google.com/assets/colab-badge.svg\" alt=\"Open In Colab\"/></a>"
      ]
    },
    {
      "cell_type": "markdown",
      "metadata": {
        "id": "4xXKp3lnOUhB"
      },
      "source": [
        "# **Importing Modules**"
      ]
    },
    {
      "cell_type": "code",
      "execution_count": null,
      "metadata": {
        "id": "0zMPNFjCB-F8"
      },
      "outputs": [],
      "source": [
        "import pandas as pd\n",
        "import pickle\n",
        "import matplotlib.pyplot as plt\n",
        "from google.colab import files\n",
        "import seaborn as sns"
      ]
    },
    {
      "cell_type": "markdown",
      "metadata": {
        "id": "on7qmrZcN_p3"
      },
      "source": [
        "# **Cleaning Data**\n",
        "\n",
        "\n",
        "---\n",
        "\n",
        "\n",
        "We clean the data using Pandas. A specific outlier is removed, which is a Youtube channel with an inaccurate date of 1970. We reformat the table to our appropriate format. The dataset is exported using Pickle to be used in our regression neural network."
      ]
    },
    {
      "cell_type": "code",
      "execution_count": null,
      "metadata": {
        "colab": {
          "base_uri": "https://localhost:8080/",
          "height": 499
        },
        "id": "feIY3lBvENKQ",
        "outputId": "8ac28e90-ba96-4d3f-fc79-2c36f87c9f1d"
      },
      "outputs": [
        {
          "output_type": "display_data",
          "data": {
            "text/plain": [
              "<IPython.core.display.Javascript object>"
            ],
            "application/javascript": [
              "\n",
              "    async function download(id, filename, size) {\n",
              "      if (!google.colab.kernel.accessAllowed) {\n",
              "        return;\n",
              "      }\n",
              "      const div = document.createElement('div');\n",
              "      const label = document.createElement('label');\n",
              "      label.textContent = `Downloading \"${filename}\": `;\n",
              "      div.appendChild(label);\n",
              "      const progress = document.createElement('progress');\n",
              "      progress.max = size;\n",
              "      div.appendChild(progress);\n",
              "      document.body.appendChild(div);\n",
              "\n",
              "      const buffers = [];\n",
              "      let downloaded = 0;\n",
              "\n",
              "      const channel = await google.colab.kernel.comms.open(id);\n",
              "      // Send a message to notify the kernel that we're ready.\n",
              "      channel.send({})\n",
              "\n",
              "      for await (const message of channel.messages) {\n",
              "        // Send a message to notify the kernel that we're ready.\n",
              "        channel.send({})\n",
              "        if (message.buffers) {\n",
              "          for (const buffer of message.buffers) {\n",
              "            buffers.push(buffer);\n",
              "            downloaded += buffer.byteLength;\n",
              "            progress.value = downloaded;\n",
              "          }\n",
              "        }\n",
              "      }\n",
              "      const blob = new Blob(buffers, {type: 'application/binary'});\n",
              "      const a = document.createElement('a');\n",
              "      a.href = window.URL.createObjectURL(blob);\n",
              "      a.download = filename;\n",
              "      div.appendChild(a);\n",
              "      a.click();\n",
              "      div.remove();\n",
              "    }\n",
              "  "
            ]
          },
          "metadata": {}
        },
        {
          "output_type": "display_data",
          "data": {
            "text/plain": [
              "<IPython.core.display.Javascript object>"
            ],
            "application/javascript": [
              "download(\"download_22d9a1ae-920f-4ece-94f5-f0b8add314aa\", \"cleaned_data.pkl\", 71419)"
            ]
          },
          "metadata": {}
        },
        {
          "output_type": "stream",
          "name": "stdout",
          "text": [
            "     Rank             Youtube Channel  Subscribers    Video Views  \\\n",
            "0       1                    T-Series        234.0  212900.271553   \n",
            "1       2              YouTube Movies        161.0       0.000000   \n",
            "2       3  Cocomelon - Nursery Rhymes        152.0  149084.178448   \n",
            "3       4                   SET India        150.0  137828.094104   \n",
            "4       5                     MrBeast        128.0   21549.128785   \n",
            "..    ...                         ...          ...            ...   \n",
            "995   996                     XO TEAM         11.5   11471.384709   \n",
            "996   997         Nirahua Music World         11.5    5997.717755   \n",
            "997   998                     YtCrash         11.4       3.825084   \n",
            "998   999                   Painzeiro         11.4    2143.444281   \n",
            "999  1000                   Oum Walid         11.4    2480.064722   \n",
            "\n",
            "     Video Count          Category  Started  Age  \n",
            "0         18.515             Music     2006   17  \n",
            "1          0.000  Film & Animation     2015    8  \n",
            "2          0.846         Education     2006   17  \n",
            "3        103.200             Shows     2006   17  \n",
            "4          0.733     Entertainment     2012   11  \n",
            "..           ...               ...      ...  ...  \n",
            "995        2.679    People & Blogs     2021    2  \n",
            "996        0.788             Music     2014    9  \n",
            "997        0.001         Education     2015    8  \n",
            "998        0.946    People & Blogs     2015    8  \n",
            "999        1.598    People & Blogs     2015    8  \n",
            "\n",
            "[1000 rows x 8 columns]\n"
          ]
        }
      ],
      "source": [
        "#Reading in Data\n",
        "url = 'https://raw.githubusercontent.com/JuliustheCreator/channel-growth-model/main/data/topSubscribed.csv'\n",
        "df = pd.read_csv(url)\n",
        "\n",
        "#Removing outliers \n",
        "df = df.dropna().replace(\"https://us.youtubers.me/global/all/top-1000-most_subscribed-youtube-channels\", \"Misc\")\n",
        "df = df.dropna().replace(1970, \"2005\")\n",
        "\n",
        "#Removing the commas in each string\n",
        "for col in [\"Subscribers\", \"Video Views\", \"Video Count\"]:\n",
        "  df[col] = df[col].str.replace(\",\", \"\")\n",
        "\n",
        "#Casting video count to int and dividing by 1000\n",
        "for col in [\"Video Count\"]: \n",
        "  df[col] = df[col].astype(int)\n",
        "  df[col] = df[col] / 1000\n",
        "\n",
        "#Casting each element to integer then dividing by a million when needed\n",
        "for col in [\"Subscribers\", \"Video Views\"]: \n",
        "  df[col] = df[col].astype(int)\n",
        "  df[col] = df[col] / 1000000\n",
        "\n",
        "#Casting each element to integer\n",
        "for col in [\"Rank\",\"Started\"]: \n",
        "  df[col] = df[col].astype(int)\n",
        "\n",
        "#Creating Age Column\n",
        "df['Age'] = 2023 - df['Started']\n",
        "\n",
        "#Exporting Cleaned Data to use in Regression Model\n",
        "with open(\"cleaned_data.pkl\", \"wb\") as f:\n",
        "    pickle.dump(df, f)\n",
        "\n",
        "files.download(\"cleaned_data.pkl\")\n",
        "\n",
        "# Displaying Dataset\n",
        "print(df)"
      ]
    },
    {
      "cell_type": "markdown",
      "metadata": {
        "id": "GWuKXsTkVeED"
      },
      "source": [
        "# **Displaying Advanced Statistics**\n",
        "\n",
        "\n",
        "---\n",
        "\n",
        "\n",
        "We display the mean, median, variance, and standard deviation, for the channels' subscribers, video views, video count, and age (as of 2022)"
      ]
    },
    {
      "cell_type": "code",
      "execution_count": null,
      "metadata": {
        "id": "6D9h__W7Vfeq"
      },
      "outputs": [],
      "source": [
        "#Number of Subscribers\n",
        "print(f'The average amount of subscribers is {(round(1_000_000 * df[\"Subscribers\"].mean(), 2)):,}')\n",
        "print(f'The median amount of subscribers is {round(1_000_000 * df[\"Subscribers\"].median(), 2):,}')\n",
        "print(f'The variance of subscribers is {round(1_000_000 * df[\"Subscribers\"].var(), 2):,}')\n",
        "print(f'The standard deviation of subscribers is {round(df[\"Subscribers\"].std(), 2):,} \\n')\n",
        "\n",
        "\n",
        "#Video Views\n",
        "print(f'The average amount of video views is {round(1_000_000 * df[\"Video Views\"].mean(), 2):,}')\n",
        "print(f'The median amount of video views is {round(1_000_000 * df[\"Video Views\"].median(), 2):,}')\n",
        "print(f'The variance of video views is {round(df[\"Video Views\"].var(), 2):,}')\n",
        "print(f'The standard deviation of video views is {round(df[\"Video Views\"].std(), 2):,} \\n')\n",
        "\n",
        "#Video Count\n",
        "print(f'The average video count is {round(1000 * df[\"Video Count\"].mean(), 2):,}')\n",
        "print(f'The median video count is {round(1000 * df[\"Video Count\"].median(), 2):,}')\n",
        "print(f'The variance video count is {round(1000 * df[\"Video Count\"].var(), 2):,}')\n",
        "print(f'The standard deviation of the video count is {round(df[\"Video Count\"].std(), 2):,} \\n')\n",
        "\n",
        "#Age\n",
        "print(\"The average age is: \", round(df[\"Age\"].mean(), 2))\n",
        "print(\"The median age is: \", round(df[\"Age\"].median(), 2))\n",
        "print(\"The variance of the ages is: \", round(df[\"Age\"].var(), 2))\n",
        "print(\"The standard deviation of the ages is: \", round(df[\"Age\"].std(), 2), \"\\n\")\n"
      ]
    },
    {
      "cell_type": "markdown",
      "metadata": {
        "id": "_wKfMHdOPDtm"
      },
      "source": [
        "# **Visualization**"
      ]
    },
    {
      "cell_type": "markdown",
      "metadata": {
        "id": "73HGK49ZUNCm"
      },
      "source": [
        "\n",
        "\n",
        "---\n",
        "\n",
        "\n",
        "### **Aggregate Video Views per Category**\n",
        "\n",
        "\n",
        "---\n",
        "We visualize the aggregate video views for each category through matplotlib, creating a bar chart.\n"
      ]
    },
    {
      "cell_type": "code",
      "execution_count": null,
      "metadata": {
        "id": "4tNpb2J7UAMh"
      },
      "outputs": [],
      "source": [
        "# Grouping and aggregating\n",
        "groupedByCat = df.groupby([\"Category\"], as_index=False)[\"Video Views\"].sum()\n",
        "\n",
        "# Plotting\n",
        "sns.set(rc={'figure.figsize':(25,10)})\n",
        "sns.barplot(x = groupedByCat['Video Views'], y = groupedByCat['Category'], orient = 'h');\n",
        "\n",
        "# Formatting\n",
        "plt.xticks(range(0, 5000000, 1000000))\n",
        "plt.xlabel(\"Video Views (in trillions)\")\n",
        "plt.ylabel(\"Category\")\n",
        "plt.title(\"Aggregate Video Views (in trillions) per Category\")\n",
        "\n",
        "plt.show()"
      ]
    },
    {
      "cell_type": "markdown",
      "metadata": {
        "id": "gDuUIlhnUedf"
      },
      "source": [
        "This is a scatterplot of the views plotted against the age:"
      ]
    },
    {
      "cell_type": "code",
      "execution_count": null,
      "metadata": {
        "id": "VLtMYGImUnGl"
      },
      "outputs": [],
      "source": [
        "#Scatter plot Graphing\n",
        "sns.set(rc={'figure.figsize':(25,10)})\n",
        "sns.scatterplot(x = df['Age'], y = df['Video Views']);\n",
        "\n",
        "#plt.scatter(df[\"Age\"], df[\"Video Views\"])\n",
        "plt.title(\"Age of Channel vs. Video Views\")\n",
        "\n",
        "plt.xticks(range(1,18))\n",
        "plt.xlabel(\"Age (in years)\")\n",
        "plt.ylabel(\"Views (in millions)\")\n"
      ]
    },
    {
      "cell_type": "markdown",
      "metadata": {
        "id": "XM-Y_2vmUqdM"
      },
      "source": [
        "This is a line graph of the rank (y) plotted against views (x):"
      ]
    },
    {
      "cell_type": "code",
      "execution_count": null,
      "metadata": {
        "id": "AcIbvEzoU1KW"
      },
      "outputs": [],
      "source": [
        "sns.set(rc={'figure.figsize':(25,10)})\n",
        "sns.pointplot(x = df[\"Rank\"], y = df[\"Video Views\"], markers = '');\n",
        "\n",
        "plt.title(\"Rank vs. Video Views\")\n",
        "plt.xlabel(\"Rank\")\n",
        "plt.ylabel(\"Video Views (millions)\")\n",
        "\n",
        "plt.xticks(range(0, df[\"Rank\"].max(), 50), range(0, df[\"Rank\"].max(), 50));"
      ]
    },
    {
      "cell_type": "markdown",
      "metadata": {
        "id": "mpl6PsgYU3DK"
      },
      "source": [
        "This is a graph of the number of the top 1000 youtube channels and year of creation."
      ]
    },
    {
      "cell_type": "code",
      "execution_count": null,
      "metadata": {
        "id": "Z2_fjPJnVChS"
      },
      "outputs": [],
      "source": [
        "yearStarted = df['Started'].value_counts()\n",
        "\n",
        "sns.set(rc={'figure.figsize':(25,10)})\n",
        "sns.pointplot(x = yearStarted.index, y = yearStarted.values)\n",
        "\n",
        "plt.xlabel(\"Year of Channel Creation\")\n",
        "plt.ylabel(\"Number of Channels Created\")\n",
        "plt.title(\"Year of Channel Creation vs. Numbers of Channels Created\")"
      ]
    }
  ],
  "metadata": {
    "colab": {
      "provenance": [],
      "include_colab_link": true
    },
    "kernelspec": {
      "display_name": "Python 3",
      "name": "python3"
    },
    "language_info": {
      "name": "python"
    }
  },
  "nbformat": 4,
  "nbformat_minor": 0
}